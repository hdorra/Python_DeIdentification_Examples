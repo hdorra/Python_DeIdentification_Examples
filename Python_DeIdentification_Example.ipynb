{
  "nbformat": 4,
  "nbformat_minor": 0,
  "metadata": {
    "colab": {
      "provenance": [],
      "authorship_tag": "ABX9TyP5YWjYfTUWnZcUsJ3A8BQR"
    },
    "kernelspec": {
      "name": "python3",
      "display_name": "Python 3"
    },
    "language_info": {
      "name": "python"
    }
  },
  "cells": [
    {
      "cell_type": "markdown",
      "source": [
        "#Deidentification Example Using Faker\n",
        "\n",
        "Faker is a Python library that generates fake data, including names, addresses, dates, and more. It can be used to generate fake data for a variety of purposes, including de-identifying sensitive data. \n",
        "\n",
        "Here are some of the common attributes that faker can generate:\n",
        "\n",
        "*   name: Full name of a person\n",
        "*   first_name: First name of a person\n",
        "*   last_name: Last name of a person\n",
        "*   address: Address of a person\n",
        "*   street_address: Street address of a person\n",
        "*   city: City of a person\n",
        "*   state: State of a person\n",
        "*   country: Country of a person\n",
        "*   postcode: Postal code of a person\n",
        "*   email: Email address of a person\n",
        "*   phone_number: Phone number of a person\n",
        "*   company: Name of a company\n",
        "*   job: Job title of a person\n",
        "\n",
        "Note: You will see in the output below that VIN is shown as an attribute that is not part of the library, but it is still de-identified but since it is not built in Faker library.\n",
        "\n",
        "You can find a more comprehensive list of attributes that faker can generate in the official documentation: https://faker.readthedocs.io/en/master/providers.html.\n",
        "\n",
        "\n",
        "Here's an example of how to use Faker to de-identify a dataset containing customer information with a practical example. Data set that is used here is not real data but randomly generated."
      ],
      "metadata": {
        "id": "rnYf6rs4nLOs"
      }
    },
    {
      "cell_type": "code",
      "source": [
        "from google.colab import drive\n",
        "drive.mount('/content/gdrive')"
      ],
      "metadata": {
        "id": "TbC0ncAapErU"
      },
      "execution_count": null,
      "outputs": []
    },
    {
      "cell_type": "code",
      "source": [
        "!pip install faker"
      ],
      "metadata": {
        "colab": {
          "base_uri": "https://localhost:8080/"
        },
        "id": "3CCte1ISnfcV",
        "outputId": "7b0e3a75-0c12-42be-a553-cc91f3ee3c84"
      },
      "execution_count": 46,
      "outputs": [
        {
          "output_type": "stream",
          "name": "stdout",
          "text": [
            "Looking in indexes: https://pypi.org/simple, https://us-python.pkg.dev/colab-wheels/public/simple/\n",
            "Requirement already satisfied: faker in /usr/local/lib/python3.9/dist-packages (18.4.0)\n",
            "Requirement already satisfied: python-dateutil>=2.4 in /usr/local/lib/python3.9/dist-packages (from faker) (2.8.2)\n",
            "Requirement already satisfied: six>=1.5 in /usr/local/lib/python3.9/dist-packages (from python-dateutil>=2.4->faker) (1.16.0)\n"
          ]
        }
      ]
    },
    {
      "cell_type": "code",
      "source": [
        "!pip install pyth"
      ],
      "metadata": {
        "colab": {
          "base_uri": "https://localhost:8080/"
        },
        "id": "D9-bK_TytNry",
        "outputId": "ce8a2412-1f78-45dc-a1e3-14707cc8d918"
      },
      "execution_count": 47,
      "outputs": [
        {
          "output_type": "stream",
          "name": "stdout",
          "text": [
            "Looking in indexes: https://pypi.org/simple, https://us-python.pkg.dev/colab-wheels/public/simple/\n",
            "Requirement already satisfied: pyth in /usr/local/lib/python3.9/dist-packages (0.6.0)\n"
          ]
        }
      ]
    },
    {
      "cell_type": "code",
      "source": [
        "import pandas as pd\n",
        "from faker import Faker\n",
        "\n",
        "# Load the data from the input file (in CSV format)\n",
        "input_file = '/content/gdrive/MyDrive/Notebooks/ExampleCustomerData.csv'\n",
        "input_data = pd.read_csv(input_file)\n",
        "\n",
        "# Define the columns to de-identify\n",
        "columns_to_deidentify = ['name', 'email', 'address', 'VIN']\n",
        "\n",
        "# Define the Faker object for de-identification\n",
        "faker = Faker()\n",
        "\n",
        "# Loop over the input data and de-identify the specified columns\n",
        "deidentified_data = input_data.copy()\n",
        "for col in columns_to_deidentify:\n",
        "    print(f'De-identifying column: {col}')\n",
        "    attr = getattr(faker, col, None)\n",
        "    if attr is None:\n",
        "        print(f'Invalid attribute for de-identification: {col}')\n",
        "    else:\n",
        "        deidentified_data[col] = deidentified_data[col].apply(lambda x: attr() if pd.notnull(x) else x)\n",
        "\n",
        "# Write the de-identified data to a new file (in CSV format)\n",
        "output_file = '/content/gdrive/MyDrive/Notebooks/DeidentifiedCustomerData_Faker.csv'\n",
        "deidentified_data.to_csv(output_file, sep=',', index=False)\n",
        "\n",
        "# Print the first 10 rows of the de-identified data\n",
        "print(deidentified_data.head(10))\n"
      ],
      "metadata": {
        "colab": {
          "base_uri": "https://localhost:8080/"
        },
        "id": "f7HxEc8quZcU",
        "outputId": "1b43874a-f0f8-4490-fc10-fd415f6653d6"
      },
      "execution_count": 62,
      "outputs": [
        {
          "output_type": "stream",
          "name": "stdout",
          "text": [
            "De-identifying column: name\n",
            "De-identifying column: email\n",
            "De-identifying column: address\n",
            "De-identifying column: VIN\n",
            "Invalid attribute for de-identification: VIN\n",
            "                 name                       email  \\\n",
            "0    Geoffrey Bennett      carrcarlos@example.org   \n",
            "1          Erin Glenn         tgarner@example.net   \n",
            "2      Richard Larson      kiddcarlos@example.net   \n",
            "3      Jessica Hodges          nmcgee@example.org   \n",
            "4  Christopher Dorsey     littleamber@example.com   \n",
            "5        Edward Garza      michelle34@example.org   \n",
            "6     Tyrone Bartlett        uesparza@example.org   \n",
            "7         Terry Silva      kellihicks@example.net   \n",
            "8          Kim Tanner         nancy57@example.org   \n",
            "9       Dylan Chapman  amandajohnston@example.org   \n",
            "\n",
            "                                             address  age                VIN  \n",
            "0         024 Mckay Ports\\nNorth Jerryview, WA 63710   30  1HGBH41JXMN109186  \n",
            "1           6872 Edgar Run\\nNorth Kimberly, IA 96363   25  3VWML7AJ9CM670208  \n",
            "2  96279 Scott Mountains Suite 011\\nSouth Michael...   40  WBAVB13516PT12345  \n",
            "3  7046 Robles Burgs Suite 735\\nNorth Kristinfort...   35  2G1WH55K429155174  \n",
            "4  63322 Henderson Circles\\nNew Melanieshire, MN ...   45  1HGEM22994L013958  \n",
            "5  2186 Brian Island Suite 916\\nVictoriabury, IA ...   28  JTHBK1EG4D2466924  \n",
            "6             6551 Boyer Camp\\nRhondamouth, KS 41523   22  1G1BL52P9TR178100  \n",
            "7  45824 Jensen Keys Suite 927\\nSouth Brian, MD 3...   48  1G1ZC5EB8BF137512  \n",
            "8         905 Valerie Freeway\\nJaniceburgh, GA 66734   38  5N1AT2MK8FC863252  \n",
            "9              4368 Richard Manor\\nLeetown, FL 15764   29  1N4AA5AP2EC430785  \n"
          ]
        }
      ]
    },
    {
      "cell_type": "markdown",
      "source": [
        "#Deidentification Example Using Mimesis\n",
        "\n",
        "Mimesis is a Python library that provides data anonymization functionality by generating realistic fake data for a variety of categories, including names, addresses, phone numbers, emails, and more. It is useful for generating test data, populating databases with mock data, and, as we will see, de-identifying sensitive data. The library is easy to use, flexible, and customizable. It can generate data in multiple languages and is available under the MIT license.\n",
        "\n",
        "Mimesis supports a variety of data providers, each of which is designed to generate data for a specific category, some examples include:\n",
        "\n",
        "*   mimesis.Person() provider can generate fake names, birthdays, genders, and more.\n",
        "*   mimesis.Address() provider can generate street addresses, postal codes, cities, and more. \n",
        "*   Other providers include mimesis.Internet(), mimesis.Numbers(), and mimesis.Business(), among others.\n",
        "\n",
        "\n",
        "To learn more about the Mimesis library, check out the official documentation at https://mimesis.name/. The documentation includes a comprehensive list of providers and attributes that can be anonymized."
      ],
      "metadata": {
        "id": "d88_jERy01dw"
      }
    },
    {
      "cell_type": "code",
      "source": [
        "!pip install mimesis"
      ],
      "metadata": {
        "colab": {
          "base_uri": "https://localhost:8080/"
        },
        "id": "X0KsPEVY2JSm",
        "outputId": "95f90d8e-8b55-4b67-86c4-7b81c9cd7f3e"
      },
      "execution_count": 58,
      "outputs": [
        {
          "output_type": "stream",
          "name": "stdout",
          "text": [
            "Looking in indexes: https://pypi.org/simple, https://us-python.pkg.dev/colab-wheels/public/simple/\n",
            "Requirement already satisfied: mimesis in /usr/local/lib/python3.9/dist-packages (8.0.0)\n",
            "Requirement already satisfied: pytest-cov<5.0.0,>=4.0.0 in /usr/local/lib/python3.9/dist-packages (from mimesis) (4.0.0)\n",
            "Requirement already satisfied: coverage<8.0.0,>=7.2.3 in /usr/local/lib/python3.9/dist-packages (from mimesis) (7.2.3)\n",
            "Requirement already satisfied: pytest>=4.6 in /usr/local/lib/python3.9/dist-packages (from pytest-cov<5.0.0,>=4.0.0->mimesis) (7.2.2)\n",
            "Requirement already satisfied: tomli in /usr/local/lib/python3.9/dist-packages (from coverage<8.0.0,>=7.2.3->mimesis) (2.0.1)\n",
            "Requirement already satisfied: packaging in /usr/local/lib/python3.9/dist-packages (from pytest>=4.6->pytest-cov<5.0.0,>=4.0.0->mimesis) (23.0)\n",
            "Requirement already satisfied: iniconfig in /usr/local/lib/python3.9/dist-packages (from pytest>=4.6->pytest-cov<5.0.0,>=4.0.0->mimesis) (2.0.0)\n",
            "Requirement already satisfied: attrs>=19.2.0 in /usr/local/lib/python3.9/dist-packages (from pytest>=4.6->pytest-cov<5.0.0,>=4.0.0->mimesis) (22.2.0)\n",
            "Requirement already satisfied: pluggy<2.0,>=0.12 in /usr/local/lib/python3.9/dist-packages (from pytest>=4.6->pytest-cov<5.0.0,>=4.0.0->mimesis) (1.0.0)\n",
            "Requirement already satisfied: exceptiongroup>=1.0.0rc8 in /usr/local/lib/python3.9/dist-packages (from pytest>=4.6->pytest-cov<5.0.0,>=4.0.0->mimesis) (1.1.1)\n"
          ]
        }
      ]
    },
    {
      "cell_type": "code",
      "source": [
        "import pandas as pd\n",
        "from faker import Faker\n",
        "\n",
        "# Load the data from the input file (in CSV format)\n",
        "input_file = '/content/gdrive/MyDrive/Notebooks/ExampleCustomerData.csv'\n",
        "input_data = pd.read_csv(input_file)\n",
        "\n",
        "# Define the columns to de-identify\n",
        "columns_to_deidentify = ['name', 'email', 'address', 'VIN']\n",
        "\n",
        "# Define the Faker object for de-identification\n",
        "faker = Faker()\n",
        "\n",
        "# Loop over the input data and de-identify the specified columns\n",
        "deidentified_data = input_data.copy()\n",
        "for col in columns_to_deidentify:\n",
        "    print(f'De-identifying column: {col}')\n",
        "    attr = getattr(faker, col, None)\n",
        "    if attr is None:\n",
        "        print(f'Invalid attribute for de-identification: {col}')\n",
        "    elif col == 'address':\n",
        "        deidentified_data[col] = deidentified_data[col].apply(lambda x: attr() if pd.notnull(x) else x)\n",
        "    elif col == 'VIN':\n",
        "        # Replace the VIN with a random alphanumeric string of length 17\n",
        "        deidentified_data[col] = deidentified_data[col].str.replace(r'^[A-Z0-9]{17}$', lambda x: faker.bothify(text='?????????????????#'))\n",
        "    else:\n",
        "        deidentified_data[col] = deidentified_data[col].apply(lambda x: attr() if pd.notnull(x) else x)\n",
        "\n",
        "# Write the de-identified data to a new file (in CSV format)\n",
        "output_file = '/content/gdrive/MyDrive/Notebooks/DeidentifiedCustomerData.csv'\n",
        "deidentified_data.to_csv(output_file, sep=',', index=False)\n",
        "\n",
        "# Show the first 10 samples of the de-identified data\n",
        "print(deidentified_data.head(10))\n",
        "\n"
      ],
      "metadata": {
        "colab": {
          "base_uri": "https://localhost:8080/"
        },
        "id": "f3a6BkAH083z",
        "outputId": "b7a3e825-f3cb-4775-fe9b-1c26ea6075cb"
      },
      "execution_count": 64,
      "outputs": [
        {
          "output_type": "stream",
          "name": "stdout",
          "text": [
            "De-identifying column: name\n",
            "De-identifying column: email\n",
            "De-identifying column: address\n",
            "De-identifying column: VIN\n",
            "Invalid attribute for de-identification: VIN\n",
            "               name                         email  \\\n",
            "0   Elizabeth White          reedjudy@example.org   \n",
            "1    Madison Martin  gregoryzimmerman@example.com   \n",
            "2  Jennifer Jackson         matthew27@example.net   \n",
            "3        John Reyes       branchterri@example.org   \n",
            "4     Cheryl Barker            john90@example.org   \n",
            "5  Larry Strickland            mark82@example.org   \n",
            "6         John Rose        erikaperez@example.org   \n",
            "7    Patrick Gibson   alexanderwilson@example.org   \n",
            "8   Walter Melendez         barbara61@example.net   \n",
            "9       Lauren Hill            tgreen@example.net   \n",
            "\n",
            "                                             address  age                VIN  \n",
            "0    955 Andrew Neck Apt. 855\\nHaroldmouth, MH 50110   30  1HGBH41JXMN109186  \n",
            "1    48213 Sarah Fort Apt. 246\\nMeganville, AS 80732   25  3VWML7AJ9CM670208  \n",
            "2  9068 Garrett Ports Apt. 118\\nEast Timothybury,...   40  WBAVB13516PT12345  \n",
            "3              18765 Dalton Walk\\nNew Lori, CT 97947   35  2G1WH55K429155174  \n",
            "4  41141 Madden Mountain Suite 542\\nTaylorbury, M...   45  1HGEM22994L013958  \n",
            "5           90409 Foster Place\\nPamelafurt, KS 10359   28  JTHBK1EG4D2466924  \n",
            "6      447 Cook Street Apt. 388\\nRobinbury, AK 40030   22  1G1BL52P9TR178100  \n",
            "7  698 Chambers Stravenue Suite 930\\nWest Taylorm...   48  1G1ZC5EB8BF137512  \n",
            "8                            USS Burns\\nFPO AE 72804   38  5N1AT2MK8FC863252  \n",
            "9              12591 Paul Way\\nNew Jeffrey, VA 48748   29  1N4AA5AP2EC430785  \n"
          ]
        }
      ]
    }
  ]
}